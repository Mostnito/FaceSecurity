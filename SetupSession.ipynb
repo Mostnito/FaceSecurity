{
 "cells": [
  {
   "cell_type": "code",
   "execution_count": 1,
   "id": "ce6f1c59",
   "metadata": {},
   "outputs": [],
   "source": [
    "import cv2\n",
    "import numpy as np\n",
    "import os"
   ]
  },
  {
   "cell_type": "code",
   "execution_count": 2,
   "id": "e05846d2",
   "metadata": {},
   "outputs": [],
   "source": [
    "# ระบุ Path ไปยังโฟลเดอร์ DatasetTrain ['Aom','Most','New']\n",
    "Person = 'Most'\n",
    "dataset_dir = os.path.join(os.getcwd(), f\"DatasetTrain/{Person}\")\n"
   ]
  },
  {
   "cell_type": "code",
   "execution_count": null,
   "id": "e772513d",
   "metadata": {},
   "outputs": [
    {
     "name": "stdout",
     "output_type": "stream",
     "text": [
      "กล้องพร้อมใช้งาน กด Q เพื่อออก\n",
      "📴 ปิดกล้องเรียบร้อย\n"
     ]
    }
   ],
   "source": [
    "\n",
    "\n",
    "# โหลดตัวตรวจจับใบหน้า\n",
    "face_cascade = cv2.CascadeClassifier(cv2.data.haarcascades + 'haarcascade_frontalface_default.xml')\n",
    "cam = cv2.VideoCapture(0)\n",
    "print(\"กล้องพร้อมใช้งาน กด Q เพื่อออก\")\n",
    "\n",
    "i=1\n",
    "while True:\n",
    "    ret, frame = cam.read()\n",
    "    if not ret:\n",
    "        break\n",
    "     #face detection แปลงเป็นgray scale จะตรวจจับง่ายกว่า\n",
    "    gray = cv2.cvtColor(frame, cv2.COLOR_BGR2GRAY)\n",
    "\n",
    "     #ตรวจจับใบหน้าในภาพ scaleFactor\n",
    "    faces = face_cascade.detectMultiScale(gray, scaleFactor=1.1, minNeighbors=5, minSize=(100, 100))\n",
    "\n",
    "    if len(faces) > 0:\n",
    "        for (x, y, w, h) in faces:\n",
    "            face_img = frame[y:y+h, x:x+w]\n",
    "            face_img = cv2.resize(face_img, (150, 150)) / 255.0\n",
    "            face_img = np.expand_dims(face_img, axis=0)\n",
    "\n",
    "            filename = f\"{i}.png\"\n",
    "            filepath = os.path.join(dataset_dir, filename)\n",
    "\n",
    "            \n",
    "            reface_img = frame[y:y+h, x:x+w]\n",
    "            reface_img = cv2.resize(reface_img, (150, 150))\n",
    "\n",
    "\n",
    "            label, color = f\"Detection {i} Picture\", (0, 255, 0)\n",
    "            cv2.imwrite(filepath, reface_img)\n",
    "            i+=1\n",
    "\n",
    "            # วาดหน้า\n",
    "            cv2.rectangle(frame, (x, y), (x+w, y+h), color, 2)\n",
    "            cv2.putText(frame, label, (x, y-10), cv2.FONT_HERSHEY_SIMPLEX, 0.8, color, 2)\n",
    "    else:\n",
    "        # ถ้าไม่เจอใบหน้า\n",
    "        cv2.putText(frame, \"No face detected\", (20, 40), cv2.FONT_HERSHEY_SIMPLEX, 1, (0, 0, 255), 2)\n",
    "\n",
    "\n",
    "    cv2.imshow(\"FaceSecurity\", frame)\n",
    "    if cv2.waitKey(1) & 0xFF == ord('q') or i >= 1000:\n",
    "        break\n",
    "cam.release()\n",
    "cv2.destroyAllWindows()\n",
    "print(\"ปิดกล้องเรียบร้อย\")"
   ]
  }
 ],
 "metadata": {
  "kernelspec": {
   "display_name": "Python 3",
   "language": "python",
   "name": "python3"
  },
  "language_info": {
   "codemirror_mode": {
    "name": "ipython",
    "version": 3
   },
   "file_extension": ".py",
   "mimetype": "text/x-python",
   "name": "python",
   "nbconvert_exporter": "python",
   "pygments_lexer": "ipython3",
   "version": "3.11.9"
  }
 },
 "nbformat": 4,
 "nbformat_minor": 5
}
